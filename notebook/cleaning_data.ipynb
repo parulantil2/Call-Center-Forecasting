{
 "cells": [
  {
   "cell_type": "code",
   "execution_count": 1,
   "metadata": {},
   "outputs": [],
   "source": [
    "import pandas as pd\n",
    "import os"
   ]
  },
  {
   "cell_type": "code",
   "execution_count": 2,
   "metadata": {},
   "outputs": [
    {
     "name": "stdout",
     "output_type": "stream",
     "text": [
      "e:\\Projects\\Call_Forecasting_App\\notebook\n"
     ]
    }
   ],
   "source": [
    "print(os.getcwd())"
   ]
  },
  {
   "cell_type": "code",
   "execution_count": 3,
   "metadata": {},
   "outputs": [
    {
     "name": "stdout",
     "output_type": "stream",
     "text": [
      "Current Working Directory: e:\\Projects\\Call_Forecasting_App\n"
     ]
    }
   ],
   "source": [
    "os.chdir(\"e:\\\\Projects\\\\Call_Forecasting_App\")\n",
    "print(\"Current Working Directory:\", os.getcwd())"
   ]
  },
  {
   "cell_type": "code",
   "execution_count": 9,
   "metadata": {},
   "outputs": [
    {
     "name": "stdout",
     "output_type": "stream",
     "text": [
      "  Call Id    Agent        Date      Time              Topic Answered (Y/N)  \\\n",
      "0  ID0001    Diane  2021-01-01   9:12:58   Contract related              Y   \n",
      "1  ID0002    Becky  2021-01-01   9:12:58  Technical Support              Y   \n",
      "2  ID0003  Stewart  2021-01-01   9:47:31   Contract related              Y   \n",
      "3  ID0004     Greg  2021-01-01   9:47:31   Contract related              Y   \n",
      "4  ID0005    Becky  2021-01-01  10:00:29    Payment related              Y   \n",
      "\n",
      "  Resolved  Speed of answer in seconds AvgTalkDuration  Satisfaction rating  \n",
      "0        Y                       109.0         0:02:23                  3.0  \n",
      "1        N                        70.0         0:04:02                  3.0  \n",
      "2        Y                        10.0         0:02:11                  3.0  \n",
      "3        Y                        53.0         0:00:37                  2.0  \n",
      "4        Y                        95.0         0:01:00                  3.0  \n",
      "<class 'pandas.core.frame.DataFrame'>\n",
      "RangeIndex: 5000 entries, 0 to 4999\n",
      "Data columns (total 10 columns):\n",
      " #   Column                      Non-Null Count  Dtype  \n",
      "---  ------                      --------------  -----  \n",
      " 0   Call Id                     5000 non-null   object \n",
      " 1   Agent                       5000 non-null   object \n",
      " 2   Date                        5000 non-null   object \n",
      " 3   Time                        5000 non-null   object \n",
      " 4   Topic                       5000 non-null   object \n",
      " 5   Answered (Y/N)              5000 non-null   object \n",
      " 6   Resolved                    5000 non-null   object \n",
      " 7   Speed of answer in seconds  4054 non-null   float64\n",
      " 8   AvgTalkDuration             4054 non-null   object \n",
      " 9   Satisfaction rating         4054 non-null   float64\n",
      "dtypes: float64(2), object(8)\n",
      "memory usage: 390.8+ KB\n"
     ]
    }
   ],
   "source": [
    "\n",
    "# Define the path to the raw data file\n",
    "data_path = './data/raw/CallCenter.csv'\n",
    "# data_path = os.path.join(\"Call_Forecasting_App\",\"data\", \"raw\", \"CallCenter.csv\")\n",
    "\n",
    "# Read the CSV file\n",
    "# data = pd.read_csv(data_path, index_col='Date')\n",
    "data = pd.read_csv(data_path)\n",
    "\n",
    "# Display the first few rows of the dataframe\n",
    "print(data.head())\n",
    "\n",
    "data.info()"
   ]
  },
  {
   "cell_type": "code",
   "execution_count": 10,
   "metadata": {},
   "outputs": [
    {
     "name": "stderr",
     "output_type": "stream",
     "text": [
      "C:\\Users\\parul\\AppData\\Local\\Temp\\ipykernel_23376\\3313477681.py:2: FutureWarning: A value is trying to be set on a copy of a DataFrame or Series through chained assignment using an inplace method.\n",
      "The behavior will change in pandas 3.0. This inplace method will never work because the intermediate object on which we are setting values always behaves as a copy.\n",
      "\n",
      "For example, when doing 'df[col].method(value, inplace=True)', try using 'df.method({col: value}, inplace=True)' or df[col] = df[col].method(value) instead, to perform the operation inplace on the original object.\n",
      "\n",
      "\n",
      "  data['Speed of answer in seconds'].fillna(data['Speed of answer in seconds'].mean(), inplace=True)\n",
      "C:\\Users\\parul\\AppData\\Local\\Temp\\ipykernel_23376\\3313477681.py:3: FutureWarning: A value is trying to be set on a copy of a DataFrame or Series through chained assignment using an inplace method.\n",
      "The behavior will change in pandas 3.0. This inplace method will never work because the intermediate object on which we are setting values always behaves as a copy.\n",
      "\n",
      "For example, when doing 'df[col].method(value, inplace=True)', try using 'df.method({col: value}, inplace=True)' or df[col] = df[col].method(value) instead, to perform the operation inplace on the original object.\n",
      "\n",
      "\n",
      "  data['Satisfaction rating'].fillna(data['Satisfaction rating'].mean(), inplace=True)\n",
      "C:\\Users\\parul\\AppData\\Local\\Temp\\ipykernel_23376\\3313477681.py:7: FutureWarning: A value is trying to be set on a copy of a DataFrame or Series through chained assignment using an inplace method.\n",
      "The behavior will change in pandas 3.0. This inplace method will never work because the intermediate object on which we are setting values always behaves as a copy.\n",
      "\n",
      "For example, when doing 'df[col].method(value, inplace=True)', try using 'df.method({col: value}, inplace=True)' or df[col] = df[col].method(value) instead, to perform the operation inplace on the original object.\n",
      "\n",
      "\n",
      "  data['AvgTalkDuration'].fillna(data['AvgTalkDuration'].mode()[0], inplace=True)\n"
     ]
    },
    {
     "data": {
      "text/plain": [
       "Call Id                       0\n",
       "Agent                         0\n",
       "Date                          0\n",
       "Time                          0\n",
       "Topic                         0\n",
       "Answered (Y/N)                0\n",
       "Resolved                      0\n",
       "Speed of answer in seconds    0\n",
       "AvgTalkDuration               0\n",
       "Satisfaction rating           0\n",
       "dtype: int64"
      ]
     },
     "execution_count": 10,
     "metadata": {},
     "output_type": "execute_result"
    }
   ],
   "source": [
    "# Filling missing values in numerical columns with the mean\n",
    "data['Speed of answer in seconds'].fillna(data['Speed of answer in seconds'].mean(), inplace=True)\n",
    "data['Satisfaction rating'].fillna(data['Satisfaction rating'].mean(), inplace=True)\n",
    "\n",
    "# For AvgTalkDuration, since it's in object format, we can either use a placeholder or the most frequent value\n",
    "# Filling missing values in AvgTalkDuration with the most frequent value (mode)\n",
    "data['AvgTalkDuration'].fillna(data['AvgTalkDuration'].mode()[0], inplace=True)\n",
    "\n",
    "# To verify the changes, check if there are still any missing values\n",
    "missing_values = data.isnull().sum()\n",
    "\n",
    "missing_values"
   ]
  },
  {
   "cell_type": "code",
   "execution_count": 6,
   "metadata": {},
   "outputs": [
    {
     "name": "stdout",
     "output_type": "stream",
     "text": [
      "Cleaned data saved to: data\\cleaned\\cleaned_data.csv\n"
     ]
    }
   ],
   "source": [
    "df_cleaned = pd.DataFrame(data)\n",
    "cleaned_data_dir = os.path.join(\"data\", \"cleaned\")\n",
    "if not os.path.exists(cleaned_data_dir):\n",
    "    os.makedirs(cleaned_data_dir)\n",
    "\n",
    "# Define the path for the cleaned CSV file\n",
    "cleaned_data_path = os.path.join(cleaned_data_dir, \"cleaned_data.csv\")\n",
    "\n",
    "# Save the cleaned DataFrame to a CSV file\n",
    "df_cleaned.to_csv(cleaned_data_path, index=False)  # Set index=False to avoid saving the DataFrame index\n",
    "\n",
    "print(f\"Cleaned data saved to: {cleaned_data_path}\")"
   ]
  }
 ],
 "metadata": {
  "kernelspec": {
   "display_name": "Python 3",
   "language": "python",
   "name": "python3"
  },
  "language_info": {
   "codemirror_mode": {
    "name": "ipython",
    "version": 3
   },
   "file_extension": ".py",
   "mimetype": "text/x-python",
   "name": "python",
   "nbconvert_exporter": "python",
   "pygments_lexer": "ipython3",
   "version": "3.12.6"
  }
 },
 "nbformat": 4,
 "nbformat_minor": 2
}
